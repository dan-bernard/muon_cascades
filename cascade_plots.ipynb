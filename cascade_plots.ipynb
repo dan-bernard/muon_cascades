{
 "cells": [
  {
   "cell_type": "code",
   "execution_count": 2,
   "id": "e090e074",
   "metadata": {},
   "outputs": [],
   "source": [
    "import matplotlib.pyplot as plt\n",
    "import math\n",
    "import numpy as np"
   ]
  },
  {
   "cell_type": "code",
   "execution_count": 3,
   "id": "04f31295",
   "metadata": {},
   "outputs": [],
   "source": [
    "def n(Z):\n",
    "    return math.sqrt((Z*(1+2*math.sqrt(Z)))/(1+2/math.sqrt(Z)))"
   ]
  },
  {
   "cell_type": "code",
   "execution_count": 4,
   "id": "58f3b683",
   "metadata": {},
   "outputs": [],
   "source": [
    "def CSq(n,l):\n",
    "    if l == 0:\n",
    "        return 1/n\n",
    "    else:\n",
    "        CPrevious = CSq(n,l-1)\n",
    "        return CPrevious * ((2*(l-1)+3)/(2*(l-1)+1)) * ((n-1-(l-1))/(n+1+(l-1)))"
   ]
  },
  {
   "cell_type": "code",
   "execution_count": 5,
   "id": "2c3582ee",
   "metadata": {},
   "outputs": [],
   "source": [
    "Nlist = [n for n in range(1,21)]\n",
    "Llist = [l for l in range(len(Nlist))]"
   ]
  },
  {
   "cell_type": "code",
   "execution_count": 6,
   "id": "fe5b3337",
   "metadata": {},
   "outputs": [],
   "source": [
    "for n in Nlist:\n",
    "    Cs = [CSq(n,l) for l in Llist]\n",
    "\n",
    "Csum = sum(Cs)"
   ]
  },
  {
   "cell_type": "code",
   "execution_count": 7,
   "id": "41cea792",
   "metadata": {},
   "outputs": [],
   "source": [
    "def P(n,l):\n",
    "    return CSq(n,l)/Csum"
   ]
  },
  {
   "cell_type": "code",
   "execution_count": 8,
   "id": "31f31312",
   "metadata": {},
   "outputs": [
    {
     "data": {
      "image/png": "[encoded data removed]",
      "text/plain": [
       "<Figure size 432x288 with 1 Axes>"
      ]
     },
     "metadata": {
      "needs_background": "light"
     },
     "output_type": "display_data"
    }
   ],
   "source": [
    "Pvalues = {}\n",
    "for n in Nlist:\n",
    "    for l in Llist:\n",
    "        p = P(n,l)*100\n",
    "        Pvalues[l] = p\n",
    "    \n",
    "    plt.hist2d(Pvalues.keys(), Pvalues.values())\n",
    "    plt.title('l distribution for n = ' + str(n))\n",
    "    #plt.show()\n",
    "    \n",
    "    #print('l distribution for n = ' + str(n))\n",
    "    #print(Pvalues)"
   ]
  },
  {
   "cell_type": "code",
   "execution_count": 9,
   "id": "fe78abb7",
   "metadata": {},
   "outputs": [],
   "source": [
    "n0 = 20\n",
    "\n",
    "def cumulative(func):\n",
    "    count = 0\n",
    "    r = np.random.random()\n",
    "    while r > 0:\n",
    "        r -= func(count)\n",
    "        count += 1\n",
    "    \n",
    "    return count\n",
    "\n",
    "#basefunction = lambda l: P(n0,l)\n",
    "\n",
    "#data = [cumulative(basefunction) for x in range(1000)]\n",
    "\n",
    "#Bins = [l for l in range(n0+1)]\n",
    "\n",
    "#plt.hist(data, bins = Bins)\n",
    "#plt.show()"
   ]
  },
  {
   "cell_type": "code",
   "execution_count": 10,
   "id": "40017047",
   "metadata": {},
   "outputs": [
    {
     "data": {
      "image/png": "[encoded data removed]",
      "text/plain": [
       "<Figure size 432x288 with 2 Axes>"
      ]
     },
     "metadata": {
      "needs_background": "light"
     },
     "output_type": "display_data"
    }
   ],
   "source": [
    "#functions = [lambda l: P(n,l) for n in Nlist]\n",
    "\n",
    "functions=[]\n",
    "for n in Nlist:\n",
    "    f=lambda l: P(n,l)\n",
    "    functions.append(f)\n",
    "x=[]\n",
    "y=[]\n",
    "\n",
    "for i in range(200000):\n",
    "    n = int(np.random.random()*20)+1\n",
    "    x.append(cumulative(functions[n-1]))\n",
    "    y.append(n)   \n",
    "    \n",
    "#count = 0\n",
    "#for i in range(len(x)):\n",
    " #   if x[i] == 1 and y[i] == 1:\n",
    "  #      count +=1\n",
    "    \n",
    "#print(count)\n",
    "plt.hist2d(x,y, facecolor='white')\n",
    "plt.xlabel('l')\n",
    "plt.ylabel('n')\n",
    "plt.colorbar()\n",
    "\n",
    "#colorbar = plt.colorbar(ticks = [0,18000])\n",
    "#colorbar.ax.set_yticklabels(['0', '100'])\n",
    "\n",
    "\n",
    "plt.show()"
   ]
  },
  {
   "cell_type": "code",
   "execution_count": 12,
   "id": "789cc1a6",
   "metadata": {},
   "outputs": [],
   "source": [
    "nvalues = [20 for x in range(20)]\n",
    "lvalues = [x for x in range(20)]\n",
    "\n",
    "for i in range(2,20):\n",
    "    h = [i for x in range(i)]\n",
    "    for j in range(len(h)):\n",
    "        nvalues.append(h[j])\n",
    "\n",
    "#print(nvalues)\n",
    "\n",
    "for i in range(1,20):\n",
    "    h = [x for x in range(i)]\n",
    "    for j in range(len(h)):\n",
    "        lvalues.append(h[j])\n",
    "\n",
    "#print(lvalues)"
   ]
  },
  {
   "cell_type": "code",
   "execution_count": 13,
   "id": "d7889acb",
   "metadata": {},
   "outputs": [],
   "source": [
    "pvalues20 = [5e-2, 1.357e-1, 1.851e-1, 1.915e-1, 1.641e-1, 1.204e-1, 7.660e-2, 4.256e-2, 2.067e-2, 8.763e-3, 3.228e-3, 1.026e-3, 2.789e-4, 6.390e-5, 1.211e-05, 1.850e-6, 2.118e-7, 1.881e-8, 11.047e-9, 2.829e-11]\n",
    "pvalues19 = [5.656e-02, 7.072e-2, 3.195e-1, 1.670e-1, 1.126e-1, 7.644e-2, 4.143e-2, 2.191e-2, 9.561e-3, 3.490e-3, 1.111e-3, 3.024e-4, 6.970e-5, 1.341e-5, 2.102e-6, 2.585e-7, 2.344e-8, 1.395e-9, 4.077e-11]\n",
    "pvalues18 = [7.395e-02, 6.185e-2, 8.269e-2, 1.257e-1, 9.747e-2, 5.4232e-2, 2.706e-2, 1.308e-2, 5.442e-3, 1.974e-3, 6.233e-4, 1.698e-4, 3.928e-5, 7.491e-6, 1.128e-6, 1.254e-7, 9.115e-9, 3.243e-10]\n",
    "pvalues17 = [2.714e-2, 7.890e-02, 1.450e-1, 1.022e-1, 6.735e-2, 4.273e-2, 2.290e-2, 1.087e-2, 4.473e-3, 1.588e-3, 4.869e-4, 1.263e-4, 2.697e-5, 4.555e-6, 5.696e-6, 4.679e-8, 1.890e-9]\n",
    "pvalues16 = [4.568e-2, 9.049e-2, 1.442e-1, 1.189e-1, 7.769e-2, 4.633e-2, 2.332e-2, 1.063e-2, 4.152e-3, 1.388e-3, 3.948e-4, 9.298e-5, 1.745e-5, 2.445e-6, 2.271e-7, 1.047e-8]\n",
    "pvalues15 = [4.902e-2, 1.045e-1, 1.558e-1, 1.234e-1, 7.941e-2, 4.532e-2, 2.198e-2, 9.508e-3, 3.504e-3, 1.094e-3, 2.847e-4, 5.941e-5, 9.335e-6, 9.815e-7, 5.137e-8]\n",
    "pvalues14 = [5.493e-2, 1.185e-1, 1.675e-1, 1.308e-1, 8.172e-2, 4.449e-2, 2.062e-2, 8.397e-3, 2.883e-3, 8.239e-4, 1.901e-3, 3.332e-5, 3.949e-6, 2.373e-7]\n",
    "pvalues13 = [6.144e-2, 1.321e-1, 1.789e-1, 1.373e-1, 8.295e-2, 4.286e-2, 1.879e-2, 7.112e-3, 2.231e-3, 5.661e-4, 1.100e-4, 1.460e-5, 9.964e-7]\n",
    "pvalues12 = [6.772e-2, 1.423e-1, 1.865e-1, 1.408e-3, 8.171e-2, 3.971e-2, 1.632e-2, 5.602e-3, 1.559e-3, 3.334e-4, 4.926e-5, 3.789e-6]\n",
    "pvalues11 = [7.157e-2, 1.444e-1, 1.846e-1, 1.379e-1, 7.651e-2, 3.455e-2, 1.289e-2, 3.932e-3, 9.170e-4, 1.491e-4, 1.280e-5]\n",
    "pvalues10 = [6.598e-2, 1.272e-1, 1.602e-2, 1.205e-2, 6.431e-2, 2.685e-2, 8.931e-3, 2.280e-3, 4.051e-4, 3.836e-5]\n",
    "pvalues9 = [4.521e-2, 9.103e-2, 1.105e-1, 8.587e-2, 4.479e-2, 1.717e-2, 4.879e-3, 9.504e-5, 9.817e-5]\n",
    "pvalues8 = [1.995e-2, 4.946e-2, 5.614e-2, 4.369e-2, 2.411e-2, 8.364e-3, 1.883e-3, 2.179e-4]\n",
    "pvalues7 = [5.773e-3, 2.892e-2, 2.926e-2, 2.372e-2, 1.166e-2, 3.376e-3, 4.756e-4]\n",
    "pvalues6 = [4.396e-3, 2.319e-2, 2.512e-2, 2.047e-2, 8.992e-3, 1.738e-3]\n",
    "pvalues5 = [5.750e-3, 3.042e-2, 3.491e-2, 2.615e-2, 7.916e-3]\n",
    "pvalues4 = [1.032e-2, 5.284e-2, 6.312e-2, 3.534e-2]\n",
    "pvalues3 = [2.469e-2, 1.225e-1, 1.361e-1]\n",
    "pvalues2 = [9.630e-2, 5.412e-1]\n",
    "pvalues1 = [1]"
   ]
  },
  {
   "cell_type": "code",
   "execution_count": 14,
   "id": "27ae9436",
   "metadata": {},
   "outputs": [],
   "source": [
    "function = lambda l: (pvalues20[l] if l<19 else 0)"
   ]
  },
  {
   "cell_type": "code",
   "execution_count": 15,
   "id": "41e36f5f",
   "metadata": {},
   "outputs": [
    {
     "data": {
      "image/png": "[encoded data removed]",
      "text/plain": [
       "<Figure size 432x288 with 1 Axes>"
      ]
     },
     "metadata": {
      "needs_background": "light"
     },
     "output_type": "display_data"
    }
   ],
   "source": [
    "n1 = 20\n",
    "\n",
    "lists = [cumulative(function)-1 for x in range(500)]\n",
    "\n",
    "Bins2 = [l for l in range(n1)]\n",
    "\n",
    "plt.hist(lists, bins = Bins2, density = True)\n",
    "plt.plot(Bins2, pvalues20)\n",
    "plt.show()"
   ]
  },
  {
   "cell_type": "code",
   "execution_count": 17,
   "id": "46f584f7",
   "metadata": {},
   "outputs": [
    {
     "data": {
      "image/png": "[encoded data removed]",
      "text/plain": [
       "<Figure size 432x288 with 1 Axes>"
      ]
     },
     "metadata": {
      "needs_background": "light"
     },
     "output_type": "display_data"
    }
   ],
   "source": [
    "plt.clf()\n",
    "plt.plot(pvalues20)\n",
    "plt.show()"
   ]
  },
  {
   "cell_type": "code",
   "execution_count": 18,
   "id": "6601d81a",
   "metadata": {},
   "outputs": [
    {
     "name": "stdout",
     "output_type": "stream",
     "text": [
      "0.04999979991653617\n",
      "0.06422092030187501\n",
      "0.1358652881389941\n"
     ]
    }
   ],
   "source": [
    "#norms = []\n",
    "pvalues = []\n",
    "\n",
    "#norms.append(sum(pvalues20))\n",
    "#norms.append(sum(pvalues19))\n",
    "#norms.append(sum(pvalues18))\n",
    "\n",
    "pvalues.append([i/sum(pvalues20) for i in pvalues20])\n",
    "pvalues.append([i/sum(pvalues19) for i in pvalues19])\n",
    "pvalues.append([i/sum(pvalues18) for i in pvalues18])\n",
    "pvalues.append([i/sum(pvalues17) for i in pvalues17])\n",
    "pvalues.append([i/sum(pvalues16) for i in pvalues16])\n",
    "pvalues.append([i/sum(pvalues15) for i in pvalues15])\n",
    "pvalues.append([i/sum(pvalues14) for i in pvalues14])\n",
    "pvalues.append([i/sum(pvalues13) for i in pvalues13])\n",
    "pvalues.append([i/sum(pvalues12) for i in pvalues12])\n",
    "pvalues.append([i/sum(pvalues11) for i in pvalues11])\n",
    "pvalues.append([i/sum(pvalues10) for i in pvalues10])\n",
    "pvalues.append([i/sum(pvalues9) for i in pvalues9])\n",
    "pvalues.append([i/sum(pvalues8) for i in pvalues8])\n",
    "pvalues.append([i/sum(pvalues7) for i in pvalues7])\n",
    "pvalues.append([i/sum(pvalues6) for i in pvalues6])\n",
    "pvalues.append([i/sum(pvalues5) for i in pvalues5])\n",
    "pvalues.append([i/sum(pvalues4) for i in pvalues4])\n",
    "pvalues.append([i/sum(pvalues3) for i in pvalues3])\n",
    "pvalues.append([i/sum(pvalues2) for i in pvalues2])\n",
    "pvalues.append([i/sum(pvalues1) for i in pvalues1])\n",
    "\n",
    "\n",
    "\n",
    "#print(norms)\n",
    "lambdas = []\n",
    "\n",
    "for i in range(len(pvalues)):\n",
    "    \n",
    "    \n",
    "    \n",
    "    #print(row)\n",
    "    f= (lambda l,n=i:(pvalues[n][l] if l<len(pvalues[n]) else 0))\n",
    "    #g = lambda l: row[l]\n",
    "    #def f(l):\n",
    "     #   if l < len(pvalues[i]):\n",
    "      #      return pvalues[i][l]\n",
    "       # else:\n",
    "        #    return 0\n",
    "    lambdas.append(f)\n",
    "\n",
    " \n",
    "\n",
    "print(lambdas[0](0))\n",
    "print(lambdas[1](0))\n",
    "print(lambdas[2](0))\n",
    "#print(i)\n",
    "#print(pvalues)"
   ]
  },
  {
   "cell_type": "code",
   "execution_count": 19,
   "id": "0d738c45",
   "metadata": {},
   "outputs": [
    {
     "data": {
      "image/png": "[encoded data removed]",
      "text/plain": [
       "<Figure size 432x288 with 2 Axes>"
      ]
     },
     "metadata": {
      "needs_background": "light"
     },
     "output_type": "display_data"
    }
   ],
   "source": [
    "X=[]\n",
    "Y=[]\n",
    "\n",
    "for i in range(5000000):\n",
    "    n = int(np.random.random()*len(lambdas))+1\n",
    "    X.append(cumulative(lambdas[n-1]))\n",
    "    Y.append(20-n+1)   \n",
    "    \n",
    "plt.hist2d(X,Y)\n",
    "plt.xlabel('l')\n",
    "plt.ylabel('n')\n",
    "plt.colorbar()\n",
    "plt.show()"
   ]
  },
  {
   "cell_type": "code",
   "execution_count": 20,
   "id": "61598b18",
   "metadata": {},
   "outputs": [],
   "source": [
    "flatlist = []\n",
    "for row in pvalues:\n",
    "    for value in row:\n",
    "        flatlist.append(value)\n",
    "        \n",
    "#print(flatlist)       "
   ]
  },
  {
   "cell_type": "code",
   "execution_count": 21,
   "id": "86dfc566",
   "metadata": {},
   "outputs": [],
   "source": [
    "pvalues20 = []\n",
    "#print(pvalues)\n",
    "#print('')\n",
    "\n",
    "plist = []\n",
    "v = 0\n",
    "\n",
    "for j in range(1,21):\n",
    "    row = []\n",
    "    for i in range(v,v+21-j):\n",
    "        row.append(flatlist[i])\n",
    "    v += 21-j\n",
    "    plist.append(row)\n",
    "    #print(sum(row))\n",
    "    \n",
    "    #del pvalues[:len(pvalues20)]\n",
    "\n",
    "#plist.append([n/sum(pvalues20) for i in pvalues20])\n",
    "\n",
    "#print(pvalues20)\n",
    "#print('')\n",
    "#print(pvalues)\n",
    "\n",
    "\n",
    "#print(plist)"
   ]
  },
  {
   "cell_type": "code",
   "execution_count": null,
   "id": "844f82c0",
   "metadata": {},
   "outputs": [],
   "source": []
  }
 ],
 "metadata": {
  "kernelspec": {
   "display_name": "Python 3 (ipykernel)",
   "language": "python",
   "name": "python3"
  },
  "language_info": {
   "codemirror_mode": {
    "name": "ipython",
    "version": 3
   },
   "file_extension": ".py",
   "mimetype": "text/x-python",
   "name": "python",
   "nbconvert_exporter": "python",
   "pygments_lexer": "ipython3",
   "version": "3.9.7"
  }
 },
 "nbformat": 4,
 "nbformat_minor": 5
}
